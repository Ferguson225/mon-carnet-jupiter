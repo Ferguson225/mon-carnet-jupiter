{
 "cells": [
  {
   "cell_type": "markdown",
   "id": "2747dee3-57a4-4f19-b213-01c8d7e0c49a",
   "metadata": {},
   "source": [
    "# Data Science Tools and Ecosystem"
   ]
  },
  {
   "cell_type": "markdown",
   "id": "5450209f-c700-4efe-8575-c052ef6b444d",
   "metadata": {},
   "source": [
    "In this notebook, Data Science Tools and Ecosystem are summarized."
   ]
  },
  {
   "cell_type": "markdown",
   "id": "b4182c9c-7e26-4adf-bfb1-86d0a7a5c270",
   "metadata": {},
   "source": [
    "**Objectives:**\n",
    "\n",
    "- List of popular data science languages.\n",
    "- Presentation of the main libraries used in data science.\n",
    "- Examples of evaluating arithmetic expressions in Python.\n",
    "- Converting minutes to hours with a Python function.\n",
    "- Exploration of tools commonly used in data science."
   ]
  },
  {
   "cell_type": "markdown",
   "id": "ae0c6be2-fe48-4ea6-9557-3a47eeb61a38",
   "metadata": {},
   "source": [
    "Some of the popular languages that Data Scientists use are:"
   ]
  },
  {
   "cell_type": "markdown",
   "id": "51bf88c1-6c39-46d8-90d3-8ce68d8c6596",
   "metadata": {},
   "source": [
    "- Python\n",
    "- R\n",
    "- SQL\n",
    "- Julia\n",
    "- Scala\n",
    "- MATLAB"
   ]
  },
  {
   "cell_type": "markdown",
   "id": "cb33f617-9612-42a1-998b-f5768f86089e",
   "metadata": {},
   "source": [
    "Some of the commonly used libraries used by Data Scientists include:\n",
    "- NumPy\n",
    "- Pandas\n",
    "- Scikit-Learn\n",
    "- Matplotlib\n",
    "- TensorFlow\n",
    "- PyTorch\n",
    "\n"
   ]
  },
  {
   "cell_type": "markdown",
   "id": "1e3ee3c2-39e0-4d39-a416-ee29f857e4ee",
   "metadata": {},
   "source": [
    "| Data Science Tools            |\n",
    "|-------------------------------|\n",
    "| **Jupiter**                       |\n",
    "| **RStudio**                       |\n",
    "| **VSCode**                        |\n",
    "\n",
    "\n"
   ]
  },
  {
   "cell_type": "markdown",
   "id": "848c4e8f-1730-4578-b1ee-2770bbde0e27",
   "metadata": {},
   "source": [
    "### arithmetic expression examples\n",
    "\n",
    "Below are a few examples of evaluating arithmetic expressions in Python. :\n",
    "- Addition: `2 + 3`\n",
    "- Subtraction: `5 - 1`\n",
    "- Multiplication: `4 * 6`\n",
    "- Division: `8 / 2`"
   ]
  },
  {
   "cell_type": "code",
   "execution_count": 1,
   "id": "638548f3-26d7-486d-a144-e92be29f2311",
   "metadata": {},
   "outputs": [
    {
     "name": "stdout",
     "output_type": "stream",
     "text": [
      "17\n"
     ]
    }
   ],
   "source": [
    "#This a simple arithmetic expression to mutiply then add integers.\n",
    "n = (3*4)+5\n",
    "print(n)"
   ]
  },
  {
   "cell_type": "code",
   "execution_count": 4,
   "id": "2d3db7ea-6842-4e14-940e-22cd03b74135",
   "metadata": {
    "tags": []
   },
   "outputs": [
    {
     "name": "stdout",
     "output_type": "stream",
     "text": [
      "200 minutes equal to  3.3333333333333335 hours\n"
     ]
    }
   ],
   "source": [
    "#This will convert 200 minutes to hours by diving by 60.\n",
    "def convert_minutes_to_hours(minutes):\n",
    "    hours = minutes / 60\n",
    "    return hours\n",
    "h = convert_minutes_to_hours(200)\n",
    "print(\"200 minutes equal to \", h ,\"hours\")"
   ]
  },
  {
   "cell_type": "markdown",
   "id": "5c52ce61-9efe-4c14-99d9-c62762fd42ee",
   "metadata": {},
   "source": [
    "## Auteur\n",
    "Tanoh Anet Fergus"
   ]
  },
  {
   "cell_type": "code",
   "execution_count": null,
   "id": "480dd657-ba0b-4da9-9176-ee907667b3e2",
   "metadata": {},
   "outputs": [],
   "source": []
  }
 ],
 "metadata": {
  "kernelspec": {
   "display_name": "Python",
   "language": "python",
   "name": "conda-env-python-py"
  },
  "language_info": {
   "codemirror_mode": {
    "name": "ipython",
    "version": 3
   },
   "file_extension": ".py",
   "mimetype": "text/x-python",
   "name": "python",
   "nbconvert_exporter": "python",
   "pygments_lexer": "ipython3",
   "version": "3.7.12"
  }
 },
 "nbformat": 4,
 "nbformat_minor": 5
}
